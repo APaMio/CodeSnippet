{
 "cells": [
  {
   "cell_type": "code",
   "execution_count": 21,
   "metadata": {
    "collapsed": true
   },
   "outputs": [],
   "source": [
    "from abc import ABCMeta, abstractmethod\n",
    "from enum import Enum\n",
    "import sys"
   ]
  },
  {
   "cell_type": "code",
   "execution_count": 22,
   "metadata": {
    "collapsed": true
   },
   "outputs": [],
   "source": [
    "class Suit(Enum):\n",
    "    HEART = 0\n",
    "    DIAMOND = 1\n",
    "    CLUBS = 2\n",
    "    SPADE = 3"
   ]
  },
  {
   "cell_type": "code",
   "execution_count": 23,
   "metadata": {},
   "outputs": [],
   "source": [
    "class Card(metaclass=ABCMeta):\n",
    "    def __init__(self, value, suit):\n",
    "        self.value = value\n",
    "        self.suit = suit\n",
    "        self.available = True\n",
    "    \n",
    "    @property\n",
    "    @abstractmethod\n",
    "    def value(self):\n",
    "        pass\n",
    "    \n",
    "    @value.setter\n",
    "    @abstractmethod\n",
    "    def value(self, other):\n",
    "        pass"
   ]
  },
  {
   "cell_type": "code",
   "execution_count": 24,
   "metadata": {
    "collapsed": true
   },
   "outputs": [],
   "source": [
    "class BlackJackCard(Card):\n",
    "    def __init__(self, value, suit):\n",
    "        super(BlackJackCard, self).__init__(value, suit)\n",
    "    \n",
    "    def is_Ace(self):\n",
    "        return self._value == 1\n",
    "    \n",
    "    def is_Face_Card(self):\n",
    "        return 10 <= self._value <= 13\n",
    "    \n",
    "    @property\n",
    "    def value(self):\n",
    "        if self.is_Ace() is True:\n",
    "            return 1\n",
    "        elif self.is_Face_Card() is True:\n",
    "            return 10\n",
    "        else:\n",
    "            return self._value\n",
    "    @value.setter\n",
    "    def value(self, other):\n",
    "        if 1 <= other <= 13:\n",
    "            self._value = other\n",
    "        else:\n",
    "            raise ValueError('Invalid card value: {}'.format(new_value))"
   ]
  },
  {
   "cell_type": "code",
   "execution_count": 25,
   "metadata": {
    "collapsed": true
   },
   "outputs": [],
   "source": [
    "class Deck(object):\n",
    "    def __init__(self, cards):\n",
    "        self.cards = cards\n",
    "        self.deal_index = 0\n",
    "    \n",
    "    def remain_cards(self):\n",
    "        return len(self.cards) - self.deal_index\n",
    "    \n",
    "    def deal_card(self):\n",
    "        try:\n",
    "            card = self.cards[self.deal_index]\n",
    "            card.available = False\n",
    "        except IndexError:\n",
    "            return None\n",
    "        return card\n",
    "    def shuffle():\n",
    "        pass"
   ]
  },
  {
   "cell_type": "code",
   "execution_count": 26,
   "metadata": {
    "collapsed": true
   },
   "outputs": [],
   "source": [
    "class Hands(object):\n",
    "    def __init__(self, cards):\n",
    "        self.cards = cards\n",
    "        \n",
    "    def add_card(self, card):\n",
    "        self.cards.append(card)\n",
    "    \n",
    "    def total_score(self):\n",
    "        sum = 0\n",
    "        for card in self.cards:\n",
    "            sum += card.value\n",
    "        return sum"
   ]
  },
  {
   "cell_type": "code",
   "execution_count": 27,
   "metadata": {
    "collapsed": true
   },
   "outputs": [],
   "source": [
    "class BlackJackHands(Hands):\n",
    "    def __init__(self, cards):\n",
    "        super(BlackJackHand, self).__init__(cards)"
   ]
  },
  {
   "cell_type": "code",
   "execution_count": 28,
   "metadata": {},
   "outputs": [
    {
     "name": "stdout",
     "output_type": "stream",
     "text": [
      "0\n"
     ]
    }
   ],
   "source": [
    "cards = []\n",
    "\n",
    "# Initail cards\n",
    "for suit in Suit:\n",
    "    for i in range(1, 14):\n",
    "        cards.append(BlackJackCard(i, suit.value))\n",
    "deck = Deck(cards)\n",
    "print(deck.deal_card().suit)\n"
   ]
  }
 ],
 "metadata": {
  "kernelspec": {
   "display_name": "Python 3",
   "language": "python",
   "name": "python3"
  },
  "language_info": {
   "codemirror_mode": {
    "name": "ipython",
    "version": 3
   },
   "file_extension": ".py",
   "mimetype": "text/x-python",
   "name": "python",
   "nbconvert_exporter": "python",
   "pygments_lexer": "ipython3",
   "version": "3.6.3"
  },
  "widgets": {
   "application/vnd.jupyter.widget-state+json": {
    "state": {},
    "version_major": 2,
    "version_minor": 0
   }
  }
 },
 "nbformat": 4,
 "nbformat_minor": 2
}
